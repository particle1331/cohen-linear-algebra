{
 "cells": [
  {
   "cell_type": "code",
   "execution_count": 1,
   "metadata": {},
   "outputs": [],
   "source": [
    "import numpy as np\n",
    "\n",
    "\n",
    "class NearestNeighbor:\n",
    "    \"\"\"Implementing the Nearest Neighbor algorithm.\"\"\"\n",
    "\n",
    "    def __init__(self, metric=\"Euclidean\"):\n",
    "        if metric == \"Euclidean\":\n",
    "            self.distance = lambda x, y: np.sqrt(((x - y)**2).sum())\n",
    "        else:\n",
    "            raise NotImplementedError\n",
    "\n",
    "    def fit(self, X, y):\n",
    "        \"\"\"Fit the model. Here X is a 2d numpy array and y is array-like.\"\"\"\n",
    "\n",
    "        self.data = X\n",
    "        self.targets = y\n",
    "\n",
    "    def predict(self, query_point):\n",
    "        \"\"\"Predict label of query point.\"\"\"\n",
    "\n",
    "        query_point = np.array(query_point)\n",
    "        t_min = None\n",
    "        min_distance = np.inf\n",
    "        \n",
    "        for i in range(len(self.data)):\n",
    "            x = self.data[i]\n",
    "            t = self.targets[i]\n",
    "            distance = self.distance(query_point, x)\n",
    "            if distance < min_distance:\n",
    "                min_distance = distance\n",
    "                t_min = t\n",
    "\n",
    "        return t_min"
   ]
  },
  {
   "cell_type": "code",
   "execution_count": 2,
   "metadata": {},
   "outputs": [
    {
     "name": "stdout",
     "output_type": "stream",
     "text": [
      "0\n"
     ]
    }
   ],
   "source": [
    "# Generate fake dataset\n",
    "X = np.array([\n",
    "    [1, 2],\n",
    "    [3, 3],\n",
    "    [5, 1]\n",
    "])\n",
    "y = [0, 1, 2]\n",
    "\n",
    "# Initialize NN model\n",
    "model = NearestNeighbor()\n",
    "\n",
    "# Fit and make inference\n",
    "model.fit(X, y)\n",
    "print(model.predict([1, 1]))"
   ]
  }
 ],
 "metadata": {
  "interpreter": {
   "hash": "5015f56ad70b34caa323120b2da519fd7eb92ffe0301170069951d562b8794dd"
  },
  "kernelspec": {
   "display_name": "Python 3.7.11 64-bit ('homl': conda)",
   "name": "python3"
  },
  "language_info": {
   "codemirror_mode": {
    "name": "ipython",
    "version": 3
   },
   "file_extension": ".py",
   "mimetype": "text/x-python",
   "name": "python",
   "nbconvert_exporter": "python",
   "pygments_lexer": "ipython3",
   "version": "3.9.4"
  }
 },
 "nbformat": 4,
 "nbformat_minor": 2
}