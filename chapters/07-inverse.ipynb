{
 "cells": [
  {
   "attachments": {},
   "cell_type": "markdown",
   "metadata": {},
   "source": [
    "# Matrix Inverse and Pseudoinverse"
   ]
  },
  {
   "attachments": {},
   "cell_type": "markdown",
   "metadata": {},
   "source": [
    "(7.1) **Full rank iff. invertible.** Let $\\mathbf A \\in \\mathbb R^{n \\times n}.$ TFAE\n",
    "\n",
    "1. $\\text{rank }\\mathbf A = n.$\n",
    "2. $\\mathbf A$ is one-to-one.\n",
    "3. $\\mathbf A$ is onto.\n",
    "4. $\\mathbf A$ is invertible.\n",
    "5. $\\mathbf A$ is nonsingular.\n",
    "\n",
    "This can be proved using the rank-nullity theorem which constrains rank to be $n$ if and only if the dimension of the null space is zero. The latter is then equivalent to $\\mathbf A$ being one-to-one, while the former to $\\mathbf A$ being onto. This proves (1-4). A matrix is nonsingular if it has no nonzero singular value so that the image of the unit sphere under $\\mathbf A$ is non-degenerate. Note that $\\mathbf A$ is invertible if and only if $\\mathbf \\Sigma$ is invertible (since $\\mathbf U$ and $\\mathbf V$ are invertible). But $\\mathbf \\Sigma$ is invertible if and only if $r = n,$ and we can take ${\\mathbf\\Sigma^{-1}}_ {ii} = \\sigma_i^{-1}$ for $i = 1, \\ldots, n.$ Thus, a matrix is invertible if and only if it is nonsingular. This proves (5) $\\iff$ (4).\n",
    "\n",
    "<br>"
   ]
  },
  {
   "attachments": {},
   "cell_type": "markdown",
   "metadata": {},
   "source": [
    "(7.2) **Sparse matrix has a dense inverse.** A sparse matrix can have a dense inverse. This can cause memory errors in practice. In the following code cell, we artificially construct a sparse matrix. This is typically singular, so we shift it to make it nonsingular.  The result is that the inverse is 50x more dense than the original matrix:\n"
   ]
  },
  {
   "cell_type": "code",
   "execution_count": 1,
   "metadata": {},
   "outputs": [
    {
     "name": "stdout",
     "output_type": "stream",
     "text": [
      "A sparsity:\t 0.001997\n",
      "A_inv sparsity:\t 0.198741\n"
     ]
    }
   ],
   "source": [
    "import numpy as np\n",
    "import matplotlib.pyplot as plt\n",
    "\n",
    "n = 1000           \n",
    "A = np.zeros([n, n])    # sparse matrix \n",
    "\n",
    "for i in range(n):\n",
    "    j = np.random.randint(n)\n",
    "    A[i, j] += np.random.randn()\n",
    "\n",
    "A += 0.01 * np.eye(n)\n",
    "\n",
    "print('A sparsity:\\t', np.count_nonzero(A) / (n*n) )\n",
    "print('A_inv sparsity:\\t', np.count_nonzero(np.linalg.inv(A)) / (n*n) )"
   ]
  },
  {
   "attachments": {},
   "cell_type": "markdown",
   "metadata": {},
   "source": [
    "(7.3) **Existence of left and right inverses.** Let $\\mathbf A \\in \\mathbb R^{m\\times n}.$ TFAE \n",
    "  \n",
    "1. $\\text{rank }\\mathbf A = n.$\n",
    "2. $\\mathbf A$ is 1-1.\n",
    "3. $\\mathbf A$ is left invertible.\n",
    "4. $\\mathbf A$ has $n$ nonzero singular values.\n",
    "\n",
    "It's easy to see that (1-3) are equivalent and (1) $\\implies$  (4). We prove (3) $\\impliedby$ (4). Suppose $\\mathbf A$ has $n$ nonzero singular values, then we can construct a left inverse using the SVD $\\mathbf A = \\mathbf U \\mathbf \\Sigma \\mathbf V^\\top$ which allows us to write\n",
    "$\n",
    "\\mathbf A^\\top \\mathbf A = \\mathbf V \\mathbf \\Sigma^\\top \\mathbf \\Sigma \\mathbf V^\\top.\n",
    "$ \n",
    "This is invertible since $r = n,$ i.e. $\\mathbf\\Sigma^\\top \\mathbf \\Sigma$ is $n \\times n$ with nonzero entries on its diagonal. Moreover, the inverse can be efficiently computed using $(\\mathbf A^\\top \\mathbf A)^{-1} = \\mathbf V (\\mathbf\\Sigma^\\top \\mathbf \\Sigma)^{-1} \\mathbf V^\\top$ where $(\\mathbf\\Sigma^\\top \\mathbf \\Sigma)^{-1} = \\mathbf \\Sigma_n^{-2}$ is the diagonal matrix with entries $\\sigma_j^{-2}$ for $j=1,\\ldots, n.$ Then, a left inverse for $\\mathbf A$ is\n",
    "$$\n",
    "(\\mathbf A^\\top \\mathbf A)^{-1} \\mathbf A^\\top.\n",
    "$$ \n",
    "\n",
    "We have corresponding dual equivalences about the rows of $\\mathbf A.$ In this case, $\\mathbf A$ is onto, and we have a wide matrix with maximal rows. A right inverse of $\\mathbf A$ can be constructed as\n",
    "$$\n",
    "\\mathbf A^\\top (\\mathbf A \\mathbf A^\\top)^{-1}\n",
    "$$\n",
    "where $(\\mathbf A \\mathbf A^\\top)^{-1} = \\mathbf U (\\mathbf \\Sigma \\mathbf \\Sigma^\\top)^{-1} \\mathbf U^\\top$ can be efficiently computed as in the left inverse with $(\\mathbf \\Sigma \\mathbf \\Sigma^\\top)^{-1} = \\mathbf \\Sigma_m^{-2}.$\n",
    "\n",
    "<br>"
   ]
  },
  {
   "attachments": {},
   "cell_type": "markdown",
   "metadata": {},
   "source": [
    "(7.4) **Moore-Penrose Pseudo-inverse.** Now that we know how to compute the one sided inverse from rectangular matrices, assuming they have full column rank or full row rank, the big missing piece is what to do with a reduced rank matrix. It turns out that it is possible to find another matrix that is not formally an inverse, but is some kind of a good approximation of what the inverse element should be in a least squares sense (later), i.e. what is called a pseudo-inverse. The **Moore-Penrose pseudo-inverse** for a matrix $\\mathbf A \\in \\mathbb R^{m \\times n}$ is defined as the unique matrix $\\mathbf A^+ \\in \\mathbb R^{n \\times m}$ that satisfies the four Penrose equations:\n",
    "\n",
    "1. $\\mathbf A \\mathbf A^+ \\mathbf A = \\mathbf A$\n",
    "2. $\\mathbf A^+ \\mathbf A \\mathbf A^+ = \\mathbf A^+$\n",
    "3. $\\mathbf A \\mathbf A^+$ is symmetric.\n",
    "4. $\\mathbf A^+ \\mathbf A$ is symmetric.\n",
    "\n",
    "These properties make $\\mathbf A^+$ look like an inverse of $\\mathbf A$. In fact, if $\\mathbf A$ is invertible, then $\\mathbf A^{-1}$ trivially satisfies the equations (also see below for left and right inverses). The Moore-Penrose pseudo-inverse exists (from the SVD below) and is [unique](https://en.wikipedia.org/wiki/Proofs_involving_the_Moore%E2%80%93Penrose_inverse) for every rectangular matrix even rank deficient ones.\n",
    "\n",
    "\n",
    "**Existence.** Consider the SVD $\\mathbf A = \\mathbf U \\mathbf \\Sigma \\mathbf V^\\top,$ we naturally take\n",
    "$$\n",
    "\\mathbf A^{+} = \\mathbf V \\mathbf \\Sigma^+ \\mathbf U^\\top\n",
    "$$\n",
    "where $\\mathbf \\Sigma^+$ is the unique matrix that satisfies the Penrose equations for $\\mathbf \\Sigma.$ This turns out to be  the diagonal matrix of shape $n \\times m$ that is a block matrix with the upper left block $\\mathbf \\Sigma_r^{-1}$ and zero blocks elsewhere. That is, $\\mathbf\\Sigma^+\\mathbf \\Sigma$ and  $\\mathbf\\Sigma\\mathbf \\Sigma^+$ with $\\mathbf I_r$ on the upper left block and zero blocks elsewhere are symmetric, then $\\mathbf \\Sigma \\mathbf\\Sigma^+\\mathbf \\Sigma = \\mathbf \\Sigma$ and $\\mathbf \\Sigma^+ \\mathbf \\Sigma \\mathbf \\Sigma^+ = \\mathbf \\Sigma^+.$ It follows that $\\mathbf A^+$ is the Moore-Penrose pseudo-inverse for $\\mathbf A,$ e.g.  $\\mathbf A \\mathbf A^+ = \\mathbf U_r\\; {\\mathbf U_r}^\\top$ and $\\mathbf A^+ \\mathbf A = \\mathbf V_r\\; {\\mathbf V_r}^\\top$ are symmetric, and the first two Penrose equations follows from the same two equations for $\\mathbf \\Sigma^+.$ This is precisely how `np.linalg.pinv` calculates the pseudo-inverse $\\mathbf A^+$:"
   ]
  },
  {
   "cell_type": "code",
   "execution_count": 4,
   "metadata": {},
   "outputs": [
    {
     "data": {
      "text/plain": [
       "array([[-0.10038572,  0.21663752, -0.14651321],\n",
       "       [ 0.0395391 ,  0.70965993,  0.93897107],\n",
       "       [ 0.18909236,  1.7118952 ,  2.6260172 ]])"
      ]
     },
     "execution_count": 4,
     "metadata": {},
     "output_type": "execute_result"
    }
   ],
   "source": [
    "import numpy as np\n",
    "\n",
    "A = np.random.randn(3, 3)\n",
    "A[:, 0] = A[:, 1] * 3.2 - A[:, 2] * 1.2 # make rank 2\n",
    "u, s, vT = np.linalg.svd(A)                                     \n",
    "s_pinv = np.diag([ 1/x if x > 1e-8 else 0 for x in s ])\n",
    "vT.T @ s_pinv @ u.T"
   ]
  },
  {
   "cell_type": "code",
   "execution_count": 5,
   "metadata": {},
   "outputs": [
    {
     "data": {
      "text/plain": [
       "array([[-0.10038572,  0.21663752, -0.14651321],\n",
       "       [ 0.0395391 ,  0.70965993,  0.93897107],\n",
       "       [ 0.18909236,  1.7118952 ,  2.6260172 ]])"
      ]
     },
     "execution_count": 5,
     "metadata": {},
     "output_type": "execute_result"
    }
   ],
   "source": [
    "np.linalg.pinv(A)"
   ]
  },
  {
   "attachments": {},
   "cell_type": "markdown",
   "metadata": {},
   "source": [
    "<p align=\"center\">\n",
    "      <img src=\"../img/9_sigma_pseudoinverse.png\" width=80%/> <br>\n",
    "      <b>Figure.</b> Pseudo-inverse of the singular values matrix.\n",
    "</p> \n",
    "\n",
    "<br>"
   ]
  },
  {
   "attachments": {},
   "cell_type": "markdown",
   "metadata": {},
   "source": [
    "(7.5) **Moore-Penrose pseudo-inverse as left and right inverse.** Let $\\mathbf A \\in \\mathbb R^{m \\times n}$ with maximal rank. It turns out the left and right inverses we constructed above is the Moore-Penrose pseudo-inverse of $\\mathbf A$ in each case:\n",
    "\n",
    "* $\\mathbf A^+ = (\\mathbf A^\\top \\mathbf A)^{-1} \\mathbf A^\\top$ (tall)\n",
    "\n",
    "* $\\mathbf A^+ = \\mathbf A^\\top(\\mathbf A \\mathbf A^\\top)^{-1}$ (wide) \n",
    "\n",
    "This follows from uniqueness and the fact that the left and right inverses each satisfies the Penrose equations. Any left or right inverse will trivially satisfy the first two equations, but not both the third and fourth! For example:"
   ]
  },
  {
   "cell_type": "code",
   "execution_count": 6,
   "metadata": {},
   "outputs": [
    {
     "data": {
      "text/plain": [
       "array([[1., 0., 0., 0.],\n",
       "       [0., 1., 0., 0.],\n",
       "       [0., 0., 1., 0.],\n",
       "       [0., 0., 1., 0.]])"
      ]
     },
     "execution_count": 6,
     "metadata": {},
     "output_type": "execute_result"
    }
   ],
   "source": [
    "A = np.vstack([ np.eye(3), [0, 0, 1] ])\n",
    "B = np.hstack([ np.eye(3), [[0], [0], [0]] ])     \n",
    "A @ B    "
   ]
  },
  {
   "cell_type": "code",
   "execution_count": 7,
   "metadata": {},
   "outputs": [
    {
     "data": {
      "text/plain": [
       "array([[1., 0., 0.],\n",
       "       [0., 1., 0.],\n",
       "       [0., 0., 1.]])"
      ]
     },
     "execution_count": 7,
     "metadata": {},
     "output_type": "execute_result"
    }
   ],
   "source": [
    "B @ A        "
   ]
  },
  {
   "attachments": {},
   "cell_type": "markdown",
   "metadata": {},
   "source": [
    "(7.6) **An exercise on consistency.** Recall that $\\mathbf A^+ = \\mathbf V \\mathbf \\Sigma^+ \\mathbf U^\\top$ uniquely. As an exercise, we want to show that this is consistent with the formula $\\mathbf A^+ = (\\mathbf A^\\top \\mathbf A)^{-1} \\mathbf A^\\top$ which is true for matrices with linearly independent columns. We do this for the tall case $m > n$, the case where the matrix is wide is analogous. Then \n",
    "\n",
    "$$\n",
    "\\mathbf A^+ = (\\mathbf A^\\top \\mathbf A)^{-1} \\mathbf A^\\top\n",
    "= \\mathbf V (\\mathbf \\Sigma^\\top \\mathbf \\Sigma)^{-1} \\mathbf \\Sigma^\\top \\mathbf U^\\top.\n",
    "$$\n",
    "\n",
    "Since $\\mathbf \\Sigma$ is a tall matrix having linearly independent columns, we have $\\mathbf \\Sigma^+ = (\\mathbf \\Sigma^\\top \\mathbf \\Sigma)^{-1} \\mathbf \\Sigma^\\top.$ Thus, $(\\mathbf A^\\top \\mathbf A)^{-1} \\mathbf A^\\top = \\mathbf V \\mathbf \\Sigma^+\\mathbf U^\\top.$ We get the same agreement when $\\mathbf A$ is right invertible. This completes the exercise.\n",
    "\n",
    "<br>\n"
   ]
  },
  {
   "cell_type": "markdown",
   "metadata": {},
   "source": []
  }
 ],
 "metadata": {
  "kernelspec": {
   "display_name": "ai",
   "language": "python",
   "name": "python3"
  },
  "language_info": {
   "codemirror_mode": {
    "name": "ipython",
    "version": 3
   },
   "file_extension": ".py",
   "mimetype": "text/x-python",
   "name": "python",
   "nbconvert_exporter": "python",
   "pygments_lexer": "ipython3",
   "version": "3.9.15"
  },
  "orig_nbformat": 4,
  "vscode": {
   "interpreter": {
    "hash": "0bf457f4026a6353447ea08cc5de431bf2d4a57657f54daac3cf4f903fa850ba"
   }
  }
 },
 "nbformat": 4,
 "nbformat_minor": 2
}
