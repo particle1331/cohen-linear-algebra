{
 "cells": [
  {
   "attachments": {},
   "cell_type": "markdown",
   "metadata": {},
   "source": [
    "# Four fundamental subspaces"
   ]
  },
  {
   "attachments": {},
   "cell_type": "markdown",
   "metadata": {},
   "source": [
    "(5.1) **Four Fundamental Subspaces.** The so-called four fundamental subspaces of matrix $\\mathbf A \\in \\mathbb R^{m \\times n}$ are subspaces form an orthogonal direct sum decomposition of its input space $\\mathbb R^n$ and its output spaces $\\mathbb R^m.$ Namely:\n",
    "\n",
    "* $\\mathsf{C}(\\mathbf A^\\top) \\oplus \\mathsf{N}(\\mathbf A) =\\, \\mathbb R^n \\;\\; \\text{s.t.} \\;\\; \\mathsf{C}(\\mathbf A^\\top) \\perp \\mathsf{N}(\\mathbf A)$\n",
    "\n",
    "* $\\mathsf{C}(\\mathbf A) \\oplus \\mathsf{N}(\\mathbf A^\\top) =\\, \\mathbb R^m \\;\\; \\text{s.t.} \\;\\; \\mathsf{C}(\\mathbf A) \\perp \\mathsf{N}(\\mathbf A^\\top)$ \n",
    "\n",
    "<br>\n",
    "\n",
    "**Proof.** Suppose $\\mathbf x \\in \\mathbb R^m$ and consider the SVD $\\mathbf A = \\mathbf U \\mathbf \\Sigma \\mathbf V^\\top.$ Let $\\tilde {\\mathbf x} = \\mathbf x - \\mathbf U \\mathbf U^\\top \\mathbf x.$ Note that $\\mathbf U\\mathbf U^\\top \\mathbf x \\in \\mathsf{C}(\\mathbf A)$ since the columns of $\\mathbf U$ are $\\mathbf u_i = \\mathbf A \\mathbf v_i$ for $i = 1, \\ldots, r$ where $r = \\text{rank }\\mathbf A,$ and the singular vectors $\\mathbf u_i$ and $\\mathbf v_j$ are, resp., ONBs of $\\mathbb R^m$ and $\\mathbb R^n.$ Then\n",
    "\n",
    "$$\n",
    "\\mathbf A^\\top \\tilde {\\mathbf x} = {\\mathbf V} {\\mathbf \\Sigma} {\\mathbf U}^\\top \\left( \\mathbf x - \\mathbf U \\mathbf U^\\top \\mathbf x \\right) = \\mathbf 0.\n",
    "$$\n",
    "\n",
    "It follows that $\\mathbb R^m = \\mathsf{N}(\\mathbf A^\\top) + \\mathsf{C}(\\mathbf A).$ To complete the proof, we show the intersection is zero. Suppose $\\mathbf y \\in  {\\mathsf{N}(\\mathbf A^\\top)} \\cap {\\mathsf{C}(\\mathbf A)}.$ Then, $\\mathbf A^\\top\\mathbf y = \\mathbf 0$ and $\\mathbf y = \\mathbf A \\mathbf x$ for some $\\mathbf x \\in \\mathbb R^n.$ Thus, $\\mathbf A^\\top \\mathbf A \\mathbf x = \\mathbf 0$ which implies $\\mathbf A \\mathbf x = \\mathbf 0.$ In other words, $\\mathbf y = \\mathbf 0.$ This proves the direct sum decomposition. To prove orthogonality, observe that $\\mathbf A \\mathbf x = \\mathbf 0$ implies $\\mathbf x \\perp \\mathsf{C}(\\mathbf A^\\top)$ since it is orthogonal to each vector that spans it. The other follows  by duality. $\\square$ \n",
    "\n",
    "<br>\n",
    "\n",
    "<p align=\"center\">\n",
    "<img src=\"../img/6_fourfundamental.png\" alt=\"drawing\" width=\"500\"/>\n",
    "</p>\n",
    "\n",
    "<br>"
   ]
  },
  {
   "attachments": {},
   "cell_type": "markdown",
   "metadata": {},
   "source": [
    "(5.2) **Basis for fundamental subspaces.** \n",
    "Basis for the fundamental subspaces can be obtained from the SVD. We can write $\\mathbf A^\\top = \\mathbf V\\mathbf \\Sigma \\mathbf U^\\top$ so that $\\mathbf A^\\top \\mathbf u_i = \\sigma_i \\mathbf v_i$ or for $i = 1, \\ldots, r = \\text{rank }\\mathbf A.$ Thus, $\\mathbf v_1, \\ldots, \\mathbf v_r$ forms a basis for $\\mathsf{C}(\\mathbf A).$ Moreover, $\\mathbf v_{r+1}, \\ldots, \\mathbf v_{n}$ are $n - r$ vectors in $\\mathsf{N}(\\mathbf A),$ hence a basis by counting. Applying the same argument for the output space, we get the ff. table: \n",
    "\n",
    "<center>\n",
    "\n",
    "Subspace | Basis | Subspace | Basis\n",
    "------ | ------ | ------ | ------\n",
    "$\\mathsf{C}(\\mathbf A^\\top)$ | $\\mathbf v_1, \\ldots, \\mathbf v_r$ | $\\mathsf{C}(\\mathbf A)$ | $\\mathbf u_1, \\ldots, \\mathbf u_r$\n",
    "$\\mathsf{N}(\\mathbf A)$ | $\\mathbf v_{r+1}, \\ldots, \\mathbf v_n$ | $\\mathsf{N}(\\mathbf A^\\top)$ | $\\mathbf u_{r+1}, \\ldots, \\mathbf u_n$ \n",
    "\n",
    "</center>\n",
    "\n",
    "<br>\n",
    "\n",
    "**Remark.** Observe that from these bases, we obtain $\\mathbb R^n = \\mathsf{C}(\\mathbf A^\\top) \\oplus \\mathsf{N}(\\mathbf A)$ the orthogonality of these subspaces for free! \n",
    "\n",
    "<br>\n",
    "\n",
    "<p align=\"center\">\n",
    "<img src=\"../img/6_four_subspace_svd.png\" alt=\"drawing\" width=\"500\"/> <br>\n",
    "<b>Figure.</b> Visualizing the above table. Here R(A) on the right denotes the row space. \n",
    "</p>\n",
    "\n",
    "<br>\n"
   ]
  },
  {
   "attachments": {},
   "cell_type": "markdown",
   "metadata": {},
   "source": [
    "(5.3) **Solutions to linear equations.** Consider the linear system $\\mathbf A \\mathbf x = \\mathbf y.$ Then, because $\\mathbb R^n = \\mathsf{C}(\\mathbf A^\\top) \\oplus \\mathsf{N}(\\mathbf A)$, the solution set for this system is given by\n",
    "  $$\\mathbf x = \\mathbf h + \\sum_{k=1}^r c_k\\mathbf v_k$$\n",
    "\n",
    "  where $\\mathbf h \\in \\mathsf{N}(\\mathbf A)$ and $c_1, \\ldots, c_r \\in \\mathbb R.$ The parameters $c_k$ are sometimes called free variables and $\\mathbf h$ a solution to the homogeneous system $\\mathbf A \\mathbf x = \\mathbf 0.$ \n",
    "\n",
    "<br>"
   ]
  },
  {
   "attachments": {},
   "cell_type": "markdown",
   "metadata": {},
   "source": [
    "(5.4) **Understanding the direct sum decomposition.** \n",
    "  Geometrically, the whole subspace $\\mathsf{N}(\\mathbf A)$ gets collapsed to the zero of the output space, while the orthogonal subspace, which turns out to be $\\mathsf{C}(\\mathbf A^\\top)$, gets mapped to $\\mathsf{C}(\\mathbf A).$ Come to think of it, it's not surprising that the row space is spanned by the left singular vectors $\\mathbf v_k$ for $k = 1, \\ldots, r$ that is orthogonal to the null space. Consider the operation $\\mathbf y^\\top \\mathbf A$ which is a linear combination of the row vectors. This turns out to be $\\mathbf y^\\top \\mathbf U \\mathbf \\Sigma \\mathbf V^\\top$ which is a linear combination of the first $r$ row vectors of $\\mathbf V.$\n",
    "\n",
    "<br>"
   ]
  },
  {
   "cell_type": "markdown",
   "metadata": {},
   "source": []
  }
 ],
 "metadata": {
  "kernelspec": {
   "display_name": "Python 3",
   "language": "python",
   "name": "python3"
  },
  "language_info": {
   "name": "python",
   "version": "3.10.3 (main, Mar 26 2022, 10:14:30) [Clang 13.0.0 (clang-1300.0.29.30)]"
  },
  "orig_nbformat": 4,
  "vscode": {
   "interpreter": {
    "hash": "74fc4d732c045e64e902852b64fc2bd2168aa0e65c0f64395f775ce1c5c468e9"
   }
  }
 },
 "nbformat": 4,
 "nbformat_minor": 2
}
